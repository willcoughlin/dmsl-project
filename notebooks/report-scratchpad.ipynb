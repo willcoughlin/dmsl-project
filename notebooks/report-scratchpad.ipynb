{
 "cells": [
  {
   "cell_type": "code",
   "execution_count": 1,
   "metadata": {},
   "outputs": [
    {
     "data": {
      "text/html": [
       "<div>\n",
       "<style scoped>\n",
       "    .dataframe tbody tr th:only-of-type {\n",
       "        vertical-align: middle;\n",
       "    }\n",
       "\n",
       "    .dataframe tbody tr th {\n",
       "        vertical-align: top;\n",
       "    }\n",
       "\n",
       "    .dataframe thead th {\n",
       "        text-align: right;\n",
       "    }\n",
       "</style>\n",
       "<table border=\"1\" class=\"dataframe\">\n",
       "  <thead>\n",
       "    <tr style=\"text-align: right;\">\n",
       "      <th></th>\n",
       "      <th>0</th>\n",
       "    </tr>\n",
       "  </thead>\n",
       "  <tbody>\n",
       "    <tr>\n",
       "      <th>Date</th>\n",
       "      <td>Date</td>\n",
       "    </tr>\n",
       "    <tr>\n",
       "      <th>ACWO_1</th>\n",
       "      <td>ACWO_1</td>\n",
       "    </tr>\n",
       "    <tr>\n",
       "      <th>ACWO_2</th>\n",
       "      <td>ACWO_2</td>\n",
       "    </tr>\n",
       "    <tr>\n",
       "      <th>ACWO_3</th>\n",
       "      <td>ACWO_3</td>\n",
       "    </tr>\n",
       "    <tr>\n",
       "      <th>ACWO_4</th>\n",
       "      <td>ACWO_4</td>\n",
       "    </tr>\n",
       "    <tr>\n",
       "      <th>...</th>\n",
       "      <td>...</td>\n",
       "    </tr>\n",
       "    <tr>\n",
       "      <th>OP42</th>\n",
       "      <td>OP42</td>\n",
       "    </tr>\n",
       "    <tr>\n",
       "      <th>OP43</th>\n",
       "      <td>OP43</td>\n",
       "    </tr>\n",
       "    <tr>\n",
       "      <th>OP44</th>\n",
       "      <td>OP44</td>\n",
       "    </tr>\n",
       "    <tr>\n",
       "      <th>OP45</th>\n",
       "      <td>OP45</td>\n",
       "    </tr>\n",
       "    <tr>\n",
       "      <th>Abnormal</th>\n",
       "      <td>Abnormal</td>\n",
       "    </tr>\n",
       "  </tbody>\n",
       "</table>\n",
       "<p>117 rows × 1 columns</p>\n",
       "</div>"
      ],
      "text/plain": [
       "                 0\n",
       "Date          Date\n",
       "ACWO_1      ACWO_1\n",
       "ACWO_2      ACWO_2\n",
       "ACWO_3      ACWO_3\n",
       "ACWO_4      ACWO_4\n",
       "...            ...\n",
       "OP42          OP42\n",
       "OP43          OP43\n",
       "OP44          OP44\n",
       "OP45          OP45\n",
       "Abnormal  Abnormal\n",
       "\n",
       "[117 rows x 1 columns]"
      ]
     },
     "execution_count": 1,
     "metadata": {},
     "output_type": "execute_result"
    }
   ],
   "source": [
    "import pandas as pd\n",
    "data_full = pd.read_csv(\"../data/processed/full_all_day_ahead.csv\")\n",
    "data_full.columns.to_frame()"
   ]
  }
 ],
 "metadata": {
  "kernelspec": {
   "display_name": "env",
   "language": "python",
   "name": "python3"
  },
  "language_info": {
   "codemirror_mode": {
    "name": "ipython",
    "version": 3
   },
   "file_extension": ".py",
   "mimetype": "text/x-python",
   "name": "python",
   "nbconvert_exporter": "python",
   "pygments_lexer": "ipython3",
   "version": "3.11.3"
  }
 },
 "nbformat": 4,
 "nbformat_minor": 2
}
