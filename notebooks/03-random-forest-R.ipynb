{
 "cells": [
  {
   "cell_type": "code",
   "execution_count": 1,
   "metadata": {
    "vscode": {
     "languageId": "r"
    }
   },
   "outputs": [
    {
     "data": {
      "text/plain": [
       "     ACWO_1            ADMO_1         ADRR_1          CSO_1      \n",
       " Min.   :   0.00   Min.   :   1   Min.   :145.0   Min.   :27794  \n",
       " 1st Qu.:   0.00   1st Qu.:1074   1st Qu.:244.0   1st Qu.:28841  \n",
       " Median :   0.00   Median :1476   Median :328.0   Median :29923  \n",
       " Mean   :  87.32   Mean   :1552   Mean   :333.2   Mean   :29774  \n",
       " 3rd Qu.:   0.00   3rd Qu.:1918   3rd Qu.:422.0   3rd Qu.:30501  \n",
       " Max.   :4864.00   Max.   :3813   Max.   :784.0   Max.   :31711  \n",
       "     DPB_1            DPH_1            HTB_1           HTH_1       \n",
       " Min.   :-10.00   Min.   :-15.00   Min.   : 8.00   Min.   :  6.00  \n",
       " 1st Qu.: 30.00   1st Qu.: 28.00   1st Qu.:45.00   1st Qu.: 44.00  \n",
       " Median : 44.00   Median : 43.00   Median :59.00   Median : 61.00  \n",
       " Mean   : 42.95   Mean   : 41.49   Mean   :59.22   Mean   : 60.99  \n",
       " 3rd Qu.: 57.00   3rd Qu.: 57.00   3rd Qu.:74.00   3rd Qu.: 77.00  \n",
       " Max.   : 74.00   Max.   : 75.00   Max.   :97.00   Max.   :100.00  \n",
       "     ITP_1          OGO_1           PPL_1            PS_1           RRIR_1    \n",
       " Min.   : 938   Min.   :  554   Min.   :11460   Min.   : 2996   Min.   :2463  \n",
       " 1st Qu.:2888   1st Qu.: 2153   1st Qu.:14200   1st Qu.: 9549   1st Qu.:2463  \n",
       " Median :3095   Median : 3396   Median :15670   Median :11725   Median :2463  \n",
       " Mean   :3053   Mean   : 4344   Mean   :15998   Mean   :11480   Mean   :2470  \n",
       " 3rd Qu.:3295   3rd Qu.: 6284   3rd Qu.:17200   3rd Qu.:13694   3rd Qu.:2483  \n",
       " Max.   :4025   Max.   :12719   Max.   :26000   Max.   :18398   Max.   :2483  \n",
       "     RRR_1          RR_1          TAGI_1          TGA_1           TLRR_1     \n",
       " Min.   :160   Min.   :2303   Min.   :19945   Min.   :16520   Min.   :13923  \n",
       " 1st Qu.:160   1st Qu.:2303   1st Qu.:28154   1st Qu.:25196   1st Qu.:16673  \n",
       " Median :160   Median :2303   Median :30715   Median :27602   Median :18133  \n",
       " Mean   :167   Mean   :2303   Mean   :29947   Mean   :26894   Mean   :18468  \n",
       " 3rd Qu.:180   3rd Qu.:2303   3rd Qu.:32213   3rd Qu.:29043   3rd Qu.:19683  \n",
       " Max.   :180   Max.   :2303   Max.   :35629   Max.   :32334   Max.   :28463  \n",
       "  Abnormal   \n",
       " False:2520  \n",
       " True :  35  \n",
       "             \n",
       "             \n",
       "             \n",
       "             "
      ]
     },
     "execution_count": 1,
     "metadata": {},
     "output_type": "execute_result"
    }
   ],
   "source": [
    "dataset <- read.csv(\"../data/processed/clean_1_day_ahead.csv\", stringsAsFactors = T)\n",
    "dataset <- dataset[,-1]\n",
    "dataset <- dataset[,-seq(19, 25)]\n",
    "summary(dataset)"
   ]
  },
  {
   "cell_type": "code",
   "execution_count": 2,
   "metadata": {
    "vscode": {
     "languageId": "r"
    }
   },
   "outputs": [
    {
     "name": "stderr",
     "output_type": "stream",
     "text": [
      "Warning:\n",
      "package 'tidyverse' was built under R version 4.3.1\n",
      "Warning:\n",
      "package 'ggplot2' was built under R version 4.3.1\n",
      "Warning:\n",
      "package 'tidyr' was built under R version 4.3.2\n",
      "Warning:\n",
      "package 'readr' was built under R version 4.3.2\n",
      "Warning:\n",
      "package 'purrr' was built under R version 4.3.1\n",
      "Warning:\n",
      "package 'dplyr' was built under R version 4.3.2\n",
      "Warning:\n",
      "package 'stringr' was built under R version 4.3.2\n",
      "Warning:\n",
      "package 'forcats' was built under R version 4.3.1\n",
      "Warning:\n",
      "package 'lubridate' was built under R version 4.3.2\n"
     ]
    },
    {
     "name": "stdout",
     "output_type": "stream",
     "text": [
      "── \u001b[1mAttaching core tidyverse packages\u001b[22m ──────────────────────── tidyverse 2.0.0 ──\n",
      "\u001b[32m✔\u001b[39m \u001b[34mdplyr    \u001b[39m 1.1.4     \u001b[32m✔\u001b[39m \u001b[34mreadr    \u001b[39m 2.1.5\n",
      "\u001b[32m✔\u001b[39m \u001b[34mforcats  \u001b[39m 1.0.0     \u001b[32m✔\u001b[39m \u001b[34mstringr  \u001b[39m 1.5.1\n",
      "\u001b[32m✔\u001b[39m \u001b[34mggplot2  \u001b[39m 3.4.4     \u001b[32m✔\u001b[39m \u001b[34mtibble   \u001b[39m 3.2.1\n",
      "\u001b[32m✔\u001b[39m \u001b[34mlubridate\u001b[39m 1.9.3     \u001b[32m✔\u001b[39m \u001b[34mtidyr    \u001b[39m 1.3.1\n",
      "\u001b[32m✔\u001b[39m \u001b[34mpurrr    \u001b[39m 1.0.2     ── \u001b[1mConflicts\u001b[22m ────────────────────────────────────────── tidyverse_conflicts() ──\n",
      "\u001b[31m✖\u001b[39m \u001b[34mdplyr\u001b[39m::\u001b[32mfilter()\u001b[39m masks \u001b[34mstats\u001b[39m::filter()\n",
      "\u001b[31m✖\u001b[39m \u001b[34mdplyr\u001b[39m::\u001b[32mlag()\u001b[39m    masks \u001b[34mstats\u001b[39m::lag()\n",
      "\u001b[36mℹ\u001b[39m Use the conflicted package (\u001b[3m\u001b[34m<http://conflicted.r-lib.org/>\u001b[39m\u001b[23m) to force all conflicts to become errorsLoading required package: lattice\n",
      "\n",
      "Attaching package: 'caret'\n",
      "\n",
      "The following object is masked from 'package:purrr':\n",
      "\n",
      "    lift\n",
      "\n",
      "randomForest 4.7-1.1\n",
      "Type rfNews() to see new features/changes/bug fixes.\n",
      "\n",
      "Attaching package: 'randomForest'\n",
      "\n",
      "The following object is masked from 'package:dplyr':\n",
      "\n",
      "    combine\n",
      "\n",
      "The following object is masked from 'package:ggplot2':\n",
      "\n",
      "    margin\n",
      "\n"
     ]
    }
   ],
   "source": [
    "library(tidyverse)\n",
    "library(caret)\n",
    "library(randomForest)"
   ]
  },
  {
   "cell_type": "code",
   "execution_count": 3,
   "metadata": {
    "vscode": {
     "languageId": "r"
    }
   },
   "outputs": [],
   "source": [
    "set.seed(123)\n",
    "model <- train(\n",
    "  Abnormal ~ ., data = dataset, method = \"rf\",\n",
    "  trControl = trainControl(\"cv\", number = 10),\n",
    "  importance = TRUE\n",
    ")"
   ]
  },
  {
   "cell_type": "code",
   "execution_count": 4,
   "metadata": {
    "vscode": {
     "languageId": "r"
    }
   },
   "outputs": [
    {
     "data": {
      "text/plain": [
       "\n",
       "Call:\n",
       " randomForest(x = x, y = y, mtry = param$mtry, importance = TRUE) \n",
       "               Type of random forest: classification\n",
       "                     Number of trees: 500\n",
       "No. of variables tried at each split: 2\n",
       "\n",
       "        OOB estimate of  error rate: 1.37%\n",
       "Confusion matrix:\n",
       "      False True class.error\n",
       "False  2520    0           0\n",
       "True     35    0           1"
      ]
     },
     "execution_count": 4,
     "metadata": {},
     "output_type": "execute_result"
    }
   ],
   "source": [
    "model$finalModel"
   ]
  },
  {
   "cell_type": "code",
   "execution_count": 8,
   "metadata": {
    "vscode": {
     "languageId": "r"
    }
   },
   "outputs": [
    {
     "data": {
      "text/plain": [
       "Confusion Matrix and Statistics\n",
       "\n",
       "          Reference\n",
       "Prediction False True\n",
       "     False  2520    0\n",
       "     True      0   35\n",
       "                                     \n",
       "               Accuracy : 1          \n",
       "                 95% CI : (0.9986, 1)\n",
       "    No Information Rate : 0.9863     \n",
       "    P-Value [Acc > NIR] : 4.95e-16   \n",
       "                                     \n",
       "                  Kappa : 1          \n",
       "                                     \n",
       " Mcnemar's Test P-Value : NA         \n",
       "                                     \n",
       "            Sensitivity : 1.0000     \n",
       "            Specificity : 1.0000     \n",
       "         Pos Pred Value : 1.0000     \n",
       "         Neg Pred Value : 1.0000     \n",
       "             Prevalence : 0.9863     \n",
       "         Detection Rate : 0.9863     \n",
       "   Detection Prevalence : 0.9863     \n",
       "      Balanced Accuracy : 1.0000     \n",
       "                                     \n",
       "       'Positive' Class : False      \n",
       "                                     "
      ]
     },
     "execution_count": 8,
     "metadata": {},
     "output_type": "execute_result"
    }
   ],
   "source": [
    "trainpreds <- predict(model, dataset)\n",
    "confusionMatrix(trainpreds, dataset$Abnormal)"
   ]
  },
  {
   "cell_type": "code",
   "execution_count": 11,
   "metadata": {
    "vscode": {
     "languageId": "r"
    }
   },
   "outputs": [
    {
     "data": {
      "text/plain": [
       "  [1] \"ACWO_1\"   \"ACWO_2\"   \"ACWO_3\"   \"ACWO_4\"   \"ACWO_5\"   \"ACWO_6\"  \n",
       "  [7] \"ADMO_1\"   \"ADMO_2\"   \"ADMO_3\"   \"ADMO_4\"   \"ADMO_5\"   \"ADMO_6\"  \n",
       " [13] \"ADRR_1\"   \"ADRR_2\"   \"ADRR_3\"   \"ADRR_4\"   \"ADRR_5\"   \"ADRR_6\"  \n",
       " [19] \"CSO_1\"    \"CSO_2\"    \"CSO_3\"    \"CSO_4\"    \"CSO_5\"    \"CSO_6\"   \n",
       " [25] \"DPB_1\"    \"DPB_2\"    \"DPB_3\"    \"DPB_4\"    \"DPB_5\"    \"DPB_6\"   \n",
       " [31] \"DPH_1\"    \"DPH_2\"    \"DPH_3\"    \"DPH_4\"    \"DPH_5\"    \"DPH_6\"   \n",
       " [37] \"HTB_1\"    \"HTB_2\"    \"HTB_3\"    \"HTB_4\"    \"HTB_5\"    \"HTB_6\"   \n",
       " [43] \"HTH_1\"    \"HTH_2\"    \"HTH_3\"    \"HTH_4\"    \"HTH_5\"    \"HTH_6\"   \n",
       " [49] \"ITP_1\"    \"ITP_2\"    \"ITP_3\"    \"ITP_4\"    \"ITP_5\"    \"ITP_6\"   \n",
       " [55] \"OGO_1\"    \"OGO_2\"    \"OGO_3\"    \"OGO_4\"    \"OGO_5\"    \"OGO_6\"   \n",
       " [61] \"PPL_1\"    \"PPL_2\"    \"PPL_3\"    \"PPL_4\"    \"PPL_5\"    \"PPL_6\"   \n",
       " [67] \"PS_1\"     \"PS_2\"     \"PS_3\"     \"PS_4\"     \"PS_5\"     \"PS_6\"    \n",
       " [73] \"RRIR_1\"   \"RRIR_2\"   \"RRIR_3\"   \"RRIR_4\"   \"RRIR_5\"   \"RRIR_6\"  \n",
       " [79] \"RRR_1\"    \"RRR_2\"    \"RRR_3\"    \"RRR_4\"    \"RRR_5\"    \"RRR_6\"   \n",
       " [85] \"RR_1\"     \"RR_2\"     \"RR_3\"     \"RR_4\"     \"RR_5\"     \"RR_6\"    \n",
       " [91] \"TAGI_1\"   \"TAGI_2\"   \"TAGI_3\"   \"TAGI_4\"   \"TAGI_5\"   \"TAGI_6\"  \n",
       " [97] \"TGA_1\"    \"TGA_2\"    \"TGA_3\"    \"TGA_4\"    \"TGA_5\"    \"TGA_6\"   \n",
       "[103] \"TLRR_1\"   \"TLRR_2\"   \"TLRR_3\"   \"TLRR_4\"   \"TLRR_5\"   \"TLRR_6\"  \n",
       "[109] \"Abnormal\""
      ]
     },
     "execution_count": 11,
     "metadata": {},
     "output_type": "execute_result"
    }
   ],
   "source": [
    "dataset.full <- read.csv(\"../data/processed/full_all_day_ahead.csv\", stringsAsFactors = T)\n",
    "dataset.full <- dataset.full[, !(names(dataset.full) %in% c(\"Date\", \"ACON\", \"MGEN\", \"OP41\", \"OP42\", \"OP43\", \"OP44\", \"OP45\"))]\n",
    "names(dataset.full)"
   ]
  },
  {
   "cell_type": "code",
   "execution_count": 13,
   "metadata": {
    "vscode": {
     "languageId": "r"
    }
   },
   "outputs": [],
   "source": [
    "model2 <- train(\n",
    "  Abnormal ~ ., data = dataset.full, method = \"rf\",\n",
    "  trControl = trainControl(\"cv\", number = 10),\n",
    "  importance = FALSE,\n",
    "  na.action = na.omit\n",
    ")"
   ]
  },
  {
   "cell_type": "code",
   "execution_count": 15,
   "metadata": {
    "vscode": {
     "languageId": "r"
    }
   },
   "outputs": [
    {
     "data": {
      "text/plain": [
       "\n",
       "Call:\n",
       " randomForest(x = x, y = y, mtry = param$mtry, importance = FALSE) \n",
       "               Type of random forest: classification\n",
       "                     Number of trees: 500\n",
       "No. of variables tried at each split: 2\n",
       "\n",
       "        OOB estimate of  error rate: 1.38%\n",
       "Confusion matrix:\n",
       "      False True class.error\n",
       "False  2510    0           0\n",
       "True     35    0           1"
      ]
     },
     "execution_count": 15,
     "metadata": {},
     "output_type": "execute_result"
    }
   ],
   "source": [
    "model2$finalModel"
   ]
  },
  {
   "cell_type": "markdown",
   "metadata": {},
   "source": [
    "**RFs not predicting better than guessing all are FALSE.** Can try tuning other hyperparams."
   ]
  }
 ],
 "metadata": {
  "kernelspec": {
   "display_name": "R (RKernel)",
   "language": "R",
   "name": "rkernel"
  },
  "language_info": {
   "codemirror_mode": "R",
   "file_extension": ".R",
   "mimetype": "text/x-r-source",
   "name": "R",
   "pygments_lexer": "r",
   "version": "4.3.0"
  }
 },
 "nbformat": 4,
 "nbformat_minor": 2
}
