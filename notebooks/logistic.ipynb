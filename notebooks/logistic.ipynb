{
 "cells": [
  {
   "cell_type": "markdown",
   "metadata": {},
   "source": [
    "# Logistic Regression Modeling"
   ]
  },
  {
   "cell_type": "code",
   "execution_count": 98,
   "metadata": {},
   "outputs": [],
   "source": [
    "import pandas as pd\n",
    "import numpy as np\n",
    "from itertools import combinations\n",
    "from sklearn.model_selection import train_test_split, cross_val_score, StratifiedKFold\n",
    "from sklearn.linear_model import LogisticRegression\n",
    "from sklearn.preprocessing import StandardScaler\n",
    "from sklearn.pipeline import Pipeline\n",
    "from sklearn.metrics import precision_recall_fscore_support, ConfusionMatrixDisplay, classification_report\n",
    "from imblearn.over_sampling import SMOTE"
   ]
  },
  {
   "cell_type": "markdown",
   "metadata": {},
   "source": [
    "## Load Data"
   ]
  },
  {
   "cell_type": "code",
   "execution_count": 99,
   "metadata": {},
   "outputs": [],
   "source": [
    "data_full = pd.read_csv(\"../data/processed/full_all_day_ahead.csv\")\n",
    "cols_1da = [c for c in data_full.columns if c.endswith(\"_1\") or c == \"Abnormal\"]\n",
    "data_1da = data_full[cols_1da]\n",
    "data_1da = data_1da.dropna()\n",
    "data_1da_reduced = data_1da.drop(columns=\"RR_1\")\n",
    "X = data_1da_reduced.drop(columns=\"Abnormal\")\n",
    "y = data_1da_reduced.Abnormal"
   ]
  },
  {
   "cell_type": "markdown",
   "metadata": {},
   "source": [
    "## Data Splitting and Resampling"
   ]
  },
  {
   "cell_type": "code",
   "execution_count": 100,
   "metadata": {},
   "outputs": [
    {
     "data": {
      "text/html": [
       "<div>\n",
       "<style scoped>\n",
       "    .dataframe tbody tr th:only-of-type {\n",
       "        vertical-align: middle;\n",
       "    }\n",
       "\n",
       "    .dataframe tbody tr th {\n",
       "        vertical-align: top;\n",
       "    }\n",
       "\n",
       "    .dataframe thead th {\n",
       "        text-align: right;\n",
       "    }\n",
       "</style>\n",
       "<table border=\"1\" class=\"dataframe\">\n",
       "  <thead>\n",
       "    <tr style=\"text-align: right;\">\n",
       "      <th></th>\n",
       "      <th>Test</th>\n",
       "      <th>Train (Pre-SMOTE)</th>\n",
       "      <th>Train (Post-SMOTE)</th>\n",
       "    </tr>\n",
       "    <tr>\n",
       "      <th>Abnormal</th>\n",
       "      <th></th>\n",
       "      <th></th>\n",
       "      <th></th>\n",
       "    </tr>\n",
       "  </thead>\n",
       "  <tbody>\n",
       "    <tr>\n",
       "      <th>0.0</th>\n",
       "      <td>756</td>\n",
       "      <td>1764</td>\n",
       "      <td>1764</td>\n",
       "    </tr>\n",
       "    <tr>\n",
       "      <th>1.0</th>\n",
       "      <td>11</td>\n",
       "      <td>24</td>\n",
       "      <td>1764</td>\n",
       "    </tr>\n",
       "  </tbody>\n",
       "</table>\n",
       "</div>"
      ],
      "text/plain": [
       "          Test  Train (Pre-SMOTE)  Train (Post-SMOTE)\n",
       "Abnormal                                             \n",
       "0.0        756               1764                1764\n",
       "1.0         11                 24                1764"
      ]
     },
     "execution_count": 100,
     "metadata": {},
     "output_type": "execute_result"
    }
   ],
   "source": [
    "np.random.seed(500)\n",
    "X_train, X_test, y_train, y_test = train_test_split(X, y, train_size=0.7, stratify=y)\n",
    "class_bal = pd.concat([pd.Series(y_test).value_counts(), pd.Series(y_train).value_counts()], axis=1)\n",
    "\n",
    "smote = SMOTE()\n",
    "X_train, y_train = smote.fit_resample(X_train, y_train)\n",
    "\n",
    "class_bal = pd.concat([class_bal, pd.Series(y_train).value_counts()], axis=1)\n",
    "class_bal.columns = [\"Test\", \"Train (Pre-SMOTE)\", \"Train (Post-SMOTE)\"]\n",
    "class_bal\n"
   ]
  },
  {
   "cell_type": "markdown",
   "metadata": {},
   "source": [
    "## Full Model"
   ]
  },
  {
   "cell_type": "code",
   "execution_count": 101,
   "metadata": {},
   "outputs": [
    {
     "name": "stdout",
     "output_type": "stream",
     "text": [
      "Optimal threshold: 0.23 F2: 0.9121976866456362\n",
      "Optimal threshold: 0.19 F2: 0.9029227557411273\n",
      "Optimal threshold: 0.25 F2: 0.9071618037135278\n",
      "Optimal threshold: 0.2 F2: 0.9012987012987013\n",
      "Optimal threshold: 0.1 F2: 0.891492613346918\n"
     ]
    }
   ],
   "source": [
    "for idx_train, idx_test in StratifiedKFold(n_splits=5).split(X_train, y_train):\n",
    "  mod_full = Pipeline([\n",
    "    (\"scaler\", StandardScaler()),\n",
    "    (\"clf\", LogisticRegression(penalty=None, max_iter=10000))\n",
    "  ])\n",
    "  mod_full.fit(X_train.iloc[idx_train], y_train[idx_train])\n",
    "  pred_probs = mod_full.predict_proba(X_train.iloc[idx_test])[:,1]\n",
    "\n",
    "  thres = [i/100 for i in range(101)]\n",
    "  opt_thres = -1\n",
    "  max_f2 = -1\n",
    "  for t in thres:\n",
    "    pred_y = [0 if p < t else 1 for p in pred_probs]\n",
    "    prec, rec, f2, _ = precision_recall_fscore_support(y_train[idx_test], pred_y, beta=2, average=\"binary\", zero_division=0)\n",
    "    if f2 > max_f2: \n",
    "      max_f2 = f2\n",
    "      opt_thres = t\n",
    "    \n",
    "  \n",
    "  print(f\"Optimal threshold: {opt_thres} F2: {max_f2}\")"
   ]
  },
  {
   "cell_type": "code",
   "execution_count": 102,
   "metadata": {},
   "outputs": [
    {
     "data": {
      "text/plain": [
       "<sklearn.metrics._plot.confusion_matrix.ConfusionMatrixDisplay at 0x1c629fec050>"
      ]
     },
     "execution_count": 102,
     "metadata": {},
     "output_type": "execute_result"
    },
    {
     "data": {
      "image/png": "[encoded data removed]",
      "text/plain": [
       "<Figure size 640x480 with 2 Axes>"
      ]
     },
     "metadata": {},
     "output_type": "display_data"
    }
   ],
   "source": [
    "mod_full = Pipeline([\n",
    "  (\"scaler\", StandardScaler()),\n",
    "  (\"clf\", LogisticRegression(penalty=None, max_iter=10000))\n",
    "])\n",
    "mod_full.fit(X_train, y_train)\n",
    "pred_probs = mod_full.predict_proba(X_test)[:,1]\n",
    "pred_y = [0 if p < 0.23 else 1 for p in pred_probs]\n",
    "ConfusionMatrixDisplay.from_predictions(y_test, pred_y)\n"
   ]
  },
  {
   "cell_type": "code",
   "execution_count": 103,
   "metadata": {},
   "outputs": [
    {
     "name": "stdout",
     "output_type": "stream",
     "text": [
      "Precision: 0.03260869565217391\n",
      "              precision    recall  f1-score   support\n",
      "\n",
      "           1       0.03      0.82      0.06        11\n",
      "\n",
      "   micro avg       0.03      0.82      0.06        11\n",
      "   macro avg       0.03      0.82      0.06        11\n",
      "weighted avg       0.03      0.82      0.06        11\n",
      "\n"
     ]
    }
   ],
   "source": [
    "print(f\"Precision: {9/(9+267)}\")\n",
    "print(classification_report(y_test, pred_y, labels=[1]))"
   ]
  }
 ],
 "metadata": {
  "kernelspec": {
   "display_name": "env",
   "language": "python",
   "name": "python3"
  },
  "language_info": {
   "codemirror_mode": {
    "name": "ipython",
    "version": 3
   },
   "file_extension": ".py",
   "mimetype": "text/x-python",
   "name": "python",
   "nbconvert_exporter": "python",
   "pygments_lexer": "ipython3",
   "version": "3.11.3"
  }
 },
 "nbformat": 4,
 "nbformat_minor": 2
}
